{
 "cells": [
  {
   "cell_type": "code",
   "execution_count": 1,
   "id": "1b73fa02-d998-4bea-b40b-6b5d79f0f37e",
   "metadata": {},
   "outputs": [
    {
     "name": "stdin",
     "output_type": "stream",
     "text": [
      "Enter the name of the file to read from:  w\n",
      "Enter the name of the new file to write the modified content to:  week3\n"
     ]
    },
    {
     "name": "stdout",
     "output_type": "stream",
     "text": [
      "Error: The file 'w' does not exist. Please check the filename and try again.\n"
     ]
    }
   ],
   "source": [
    "def modify_file_content(input_filename, output_filename):\n",
    "    \"\"\"\n",
    "    Reads the content of a file, modifies it (e.g., converts it to uppercase),\n",
    "    and writes the modified content to a new file.\n",
    "\n",
    "    Parameters:\n",
    "    - input_filename (str): Name of the file to read from.\n",
    "    - output_filename (str): Name of the file to write the modified content to.\n",
    "    \"\"\"\n",
    "    try:\n",
    "        # Attempt to read from the input file\n",
    "        with open(input_filename, 'r') as infile:\n",
    "            content = infile.read()\n",
    "        \n",
    "        # Modify the content (example: convert to uppercase)\n",
    "        modified_content = content.upper()\n",
    "        \n",
    "        # Write the modified content to the output file\n",
    "        with open(output_filename, 'w') as outfile:\n",
    "            outfile.write(modified_content)\n",
    "        \n",
    "        print(f\"File has been successfully modified and saved as '{output_filename}'.\")\n",
    "    except FileNotFoundError:\n",
    "        print(f\"Error: The file '{input_filename}' does not exist. Please check the filename and try again.\")\n",
    "    except PermissionError:\n",
    "        print(f\"Error: You do not have permission to read '{input_filename}' or write to '{output_filename}'.\")\n",
    "    except Exception as e:\n",
    "        print(f\"An unexpected error occurred: {e}\")\n",
    "\n",
    "\n",
    "# Main program\n",
    "if __name__ == \"__main__\":\n",
    "    # Ask the user for the input and output filenames\n",
    "    input_file = input(\"Enter the name of the file to read from: \")\n",
    "    output_file = input(\"Enter the name of the new file to write the modified content to: \")\n",
    "    \n",
    "    # Process the files\n",
    "    modify_file_content(input_file, output_file)\n"
   ]
  },
  {
   "cell_type": "code",
   "execution_count": null,
   "id": "0863ed88-cda4-400f-bf38-0e077a29a21e",
   "metadata": {},
   "outputs": [],
   "source": []
  }
 ],
 "metadata": {
  "kernelspec": {
   "display_name": "Python 3 (ipykernel)",
   "language": "python",
   "name": "python3"
  },
  "language_info": {
   "codemirror_mode": {
    "name": "ipython",
    "version": 3
   },
   "file_extension": ".py",
   "mimetype": "text/x-python",
   "name": "python",
   "nbconvert_exporter": "python",
   "pygments_lexer": "ipython3",
   "version": "3.11.7"
  }
 },
 "nbformat": 4,
 "nbformat_minor": 5
}
